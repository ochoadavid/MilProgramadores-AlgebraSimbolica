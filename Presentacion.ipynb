{
 "cells": [
  {
   "cell_type": "code",
   "execution_count": 1,
   "id": "cb304368-7af3-44ae-8546-5a40603963cc",
   "metadata": {
    "slideshow": {
     "slide_type": "slide"
    },
    "tags": []
   },
   "outputs": [],
   "source": [
    "from IPython.display import IFrame"
   ]
  },
  {
   "cell_type": "markdown",
   "id": "58de408b-eb44-438a-b061-babe7ff2e94a",
   "metadata": {
    "slideshow": {
     "slide_type": "slide"
    },
    "tags": []
   },
   "source": [
    "# Resolviendo problemas de álgebra y cálculo usando programación"
   ]
  },
  {
   "cell_type": "markdown",
   "id": "d0ce9f55-f7b3-47cd-bd2a-ca1bf2ae57cc",
   "metadata": {
    "slideshow": {
     "slide_type": "slide"
    },
    "tags": []
   },
   "source": [
    "## Presentación"
   ]
  },
  {
   "cell_type": "markdown",
   "id": "f1c85b6b-6065-486a-9fa4-883ce0fe03bc",
   "metadata": {
    "slideshow": {
     "slide_type": "fragment"
    },
    "tags": []
   },
   "source": [
    "El tema de la presentación de hoy es el uso de la librería Sympy (https://www.sympy.org/) en combinación \n",
    "con los diccionarios (un tipo de estructura de datos de Python) para resolver problemas de álgebra y\n",
    "cálculo."
   ]
  },
  {
   "cell_type": "markdown",
   "id": "28b3a158-d32a-492d-9a35-7b7e3baf7f17",
   "metadata": {
    "slideshow": {
     "slide_type": "slide"
    },
    "tags": []
   },
   "source": [
    "## Temario\n",
    "\n",
    "- Sympy - la libería de álgebra simbólica de Python.\n",
    "- ¿$x=x$? Variables, expresiones y simbolos.\n",
    "- Pongamos todo junto: usando diccionarios.\n",
    "- ¿Porqué resolver un problema, si podemos resolver 10?"
   ]
  },
  {
   "cell_type": "markdown",
   "id": "4ed3371c-6706-427b-ae0f-02bb32f0422a",
   "metadata": {
    "slideshow": {
     "slide_type": "slide"
    },
    "tags": []
   },
   "source": [
    "## Sympy - la libería de álgebra simbólica de Python"
   ]
  },
  {
   "cell_type": "markdown",
   "id": "516c3d63-c0df-4d0a-a8d7-14e4cd8841bf",
   "metadata": {
    "slideshow": {
     "slide_type": "fragment"
    },
    "tags": []
   },
   "source": [
    "> SymPy es una biblioteca de Python para matemáticas simbólicas. \n",
    "> Su propósito es llegar a ser un sistema de álgebra por computadora (CAS) \n",
    "> completo manteniendo el código tan simple como sea posible para poder ser \n",
    "> legible y extensible de manera fácil. SymPy está escrito en Python enteramente. \n",
    ">\n",
    "> -- <cite>https://www.sympy.org/en/index.html</cite>"
   ]
  },
  {
   "cell_type": "code",
   "execution_count": 2,
   "id": "66d9f5bb-15ed-4b3b-90c3-dbaa2b140e0b",
   "metadata": {
    "slideshow": {
     "slide_type": "slide"
    },
    "tags": []
   },
   "outputs": [
    {
     "data": {
      "text/html": [
       "\n",
       "        <iframe\n",
       "            width=\"1000\"\n",
       "            height=\"500\"\n",
       "            src=\"http://www.sympy.org/es/\"\n",
       "            frameborder=\"0\"\n",
       "            allowfullscreen\n",
       "        ></iframe>\n",
       "        "
      ],
      "text/plain": [
       "<IPython.lib.display.IFrame at 0x7fc28411b490>"
      ]
     },
     "execution_count": 2,
     "metadata": {},
     "output_type": "execute_result"
    }
   ],
   "source": [
    "IFrame('http://www.sympy.org/es/', width=1000, height=500)"
   ]
  },
  {
   "cell_type": "markdown",
   "id": "726b30d1-da9f-4cd2-bd11-c9f7ff11bf53",
   "metadata": {
    "slideshow": {
     "slide_type": "slide"
    },
    "tags": []
   },
   "source": [
    "¿Cómo podemos acceder a esta magia desde Python?..."
   ]
  },
  {
   "cell_type": "code",
   "execution_count": 3,
   "id": "db4dea27-ab21-4c4c-9f0f-75da47cf34c8",
   "metadata": {
    "slideshow": {
     "slide_type": "fragment"
    },
    "tags": []
   },
   "outputs": [],
   "source": [
    "# Aquí vamos!!\n",
    "import sympy as sp"
   ]
  },
  {
   "cell_type": "markdown",
   "id": "ea81ed48-f981-4197-bd76-ffa48303cac9",
   "metadata": {
    "slideshow": {
     "slide_type": "fragment"
    },
    "tags": []
   },
   "source": [
    "__Nota:__ El `sp` es simplemente un _alias_ o modo alternativo para llamar a la librería, evitando escribir `sympy` cada vez. "
   ]
  },
  {
   "cell_type": "markdown",
   "id": "24b063fa-a4dd-49a2-bf38-e1755b79268e",
   "metadata": {
    "slideshow": {
     "slide_type": "slide"
    },
    "tags": []
   },
   "source": [
    "Pero esperen... hay algo que es importante decir:\n",
    "__SymPy__ puede utilizar diferentes herramientas para dar la mejor presentación."
   ]
  },
  {
   "cell_type": "markdown",
   "id": "8dc0743a-5432-4e9a-8cdf-5dc393c2b6a5",
   "metadata": {
    "slideshow": {
     "slide_type": "fragment"
    },
    "tags": []
   },
   "source": [
    "![Latex](Imagenes/Latex.png)"
   ]
  },
  {
   "cell_type": "markdown",
   "id": "ba85a3d4-10e6-4877-8559-c3e40f811f1a",
   "metadata": {
    "slideshow": {
     "slide_type": "fragment"
    },
    "tags": []
   },
   "source": [
    "Si __miketex__ (disponible en anaconda) está instalado permite una representación basada en __LaTeX__ (https://www.latex-project.org/). Esta representación está disponible automáticamente en Jupyter, pero para poder aprovechar esta representación en otros sitemas (por ejemplo Spyder) es necesario importar:"
   ]
  },
  {
   "cell_type": "code",
   "execution_count": 4,
   "id": "ea159f66-c4f8-43ab-bd77-18459e6e83d6",
   "metadata": {
    "slideshow": {
     "slide_type": "slide"
    },
    "tags": []
   },
   "outputs": [],
   "source": [
    "from IPython.display import display as pp # pretty print"
   ]
  },
  {
   "cell_type": "markdown",
   "id": "ac5c014a-da85-4818-b1b4-2b1b8be7f0e8",
   "metadata": {
    "slideshow": {
     "slide_type": "slide"
    },
    "tags": []
   },
   "source": [
    "![Spyder](Imagenes/Spyder.png)"
   ]
  },
  {
   "cell_type": "markdown",
   "id": "f384c217-14b9-40da-8c2f-91bc54edd4e6",
   "metadata": {
    "slideshow": {
     "slide_type": "slide"
    },
    "tags": []
   },
   "source": [
    "Bueno, continuemos.\n",
    "El primer paso es declarar los simbolos que utilizaremos. SymPy reconoce automáticamente la escritura de simbolos de LaTeX:"
   ]
  },
  {
   "cell_type": "code",
   "execution_count": 5,
   "id": "55ea141c-66e2-4cff-a61f-27cdd0a67024",
   "metadata": {
    "slideshow": {
     "slide_type": "slide"
    },
    "tags": []
   },
   "outputs": [
    {
     "data": {
      "text/latex": [
       "$\\displaystyle x$"
      ],
      "text/plain": [
       "x"
      ]
     },
     "metadata": {},
     "output_type": "display_data"
    },
    {
     "data": {
      "text/latex": [
       "$\\displaystyle P_{c}$"
      ],
      "text/plain": [
       "P_{c}"
      ]
     },
     "metadata": {},
     "output_type": "display_data"
    }
   ],
   "source": [
    "x = sp.Symbol('x')\n",
    "Pc = sp.Symbol('P_{c}')\n",
    "pp( x, Pc )"
   ]
  },
  {
   "cell_type": "markdown",
   "id": "31e8230c-880b-4e4b-ae87-6ca89806a02c",
   "metadata": {
    "slideshow": {
     "slide_type": "slide"
    },
    "tags": []
   },
   "source": [
    "Estos símbolos son ahora símbolos algebraicos con los que podemos trabajar junto con numeros y armar expresiones."
   ]
  },
  {
   "cell_type": "code",
   "execution_count": 6,
   "id": "92ca90f5-7336-476c-a68c-679aba373d80",
   "metadata": {
    "slideshow": {
     "slide_type": "fragment"
    },
    "tags": []
   },
   "outputs": [
    {
     "data": {
      "text/latex": [
       "$\\displaystyle P_{c} x + 5 x^{2} + 6$"
      ],
      "text/plain": [
       "P_{c}*x + 5*x**2 + 6"
      ]
     },
     "metadata": {},
     "output_type": "display_data"
    }
   ],
   "source": [
    "f = 5 * x**2 + Pc * x + 6\n",
    "pp( f )"
   ]
  },
  {
   "cell_type": "markdown",
   "id": "eff52962-d605-49dc-b80f-b7eb66737c49",
   "metadata": {
    "slideshow": {
     "slide_type": "slide"
    },
    "tags": []
   },
   "source": [
    "## ¿$x=x$? Variables, expresiones y simbolos."
   ]
  },
  {
   "cell_type": "markdown",
   "id": "8809933f-abcc-4d06-b45a-1b9a894c4a99",
   "metadata": {
    "slideshow": {
     "slide_type": "slide"
    },
    "tags": []
   },
   "source": [
    "¿Cómo es eso de que $x = x$?\n",
    "\n",
    "`x = sp.Symbol('x')`\n",
    "\n",
    "Lo que realmente es importante entender que lo que está a la __derecha__ es un _símbolo_ algebraico, \n",
    "mientras que lo que está a la __izquierda__ es una _variable_ de Python."
   ]
  },
  {
   "cell_type": "markdown",
   "id": "69f0e822-d32d-4a06-9cef-e86b1c8aeb7e",
   "metadata": {
    "slideshow": {
     "slide_type": "slide"
    },
    "tags": []
   },
   "source": [
    "En Python __todo__ es un __objeto__ y aunque no me quiero meter a este tema \n",
    "(y no porque no sea interesante, sino porque nos podría tomar mucho más tiempo)\n",
    "podemos afirmar que _la variable_ `x` contiene _el símbolo_ $x$."
   ]
  },
  {
   "cell_type": "markdown",
   "id": "a30a8b22-ea10-435d-8ed6-ba32d23fc0bf",
   "metadata": {
    "slideshow": {
     "slide_type": "slide"
    },
    "tags": []
   },
   "source": [
    "Así, podemos hacer, por ejemplo:"
   ]
  },
  {
   "cell_type": "code",
   "execution_count": 7,
   "id": "78dc850e-6a48-4405-8949-f89d6bf5ff5a",
   "metadata": {
    "slideshow": {
     "slide_type": "fragment"
    },
    "tags": []
   },
   "outputs": [
    {
     "data": {
      "text/latex": [
       "$\\displaystyle x^{3}$"
      ],
      "text/plain": [
       "x**3"
      ]
     },
     "metadata": {},
     "output_type": "display_data"
    }
   ],
   "source": [
    "y = x * x * x\n",
    "pp( y )"
   ]
  },
  {
   "cell_type": "markdown",
   "id": "4b9644e3-7b84-4994-b1a6-48f7227e7825",
   "metadata": {
    "slideshow": {
     "slide_type": "fragment"
    },
    "tags": []
   },
   "source": [
    "Aunque aquí, en realidad, `y` contiene una _expresión algebraica_ (que, al igual que los _símbolo_ `x` es un _objeto_ de __sympy__)."
   ]
  },
  {
   "cell_type": "markdown",
   "id": "29f3a767-5312-4b03-b79b-1dd9de873857",
   "metadata": {
    "slideshow": {
     "slide_type": "slide"
    },
    "tags": []
   },
   "source": [
    "Es decir:"
   ]
  },
  {
   "cell_type": "markdown",
   "id": "b151e0c3-6dcb-4528-8ef4-e3221473b5cb",
   "metadata": {
    "slideshow": {
     "slide_type": "fragment"
    },
    "tags": []
   },
   "source": [
    "![Fig3](Imagenes/TutSympy.png)"
   ]
  },
  {
   "cell_type": "markdown",
   "id": "7a364075-45b1-4c15-9419-78a274fbe126",
   "metadata": {
    "slideshow": {
     "slide_type": "slide"
    },
    "tags": []
   },
   "source": [
    "Nada nos impide hacer cosas que pudieran no tener mucho sentido:"
   ]
  },
  {
   "cell_type": "code",
   "execution_count": 8,
   "id": "fefcc974-2a8d-40e4-b8c3-b7981ccec799",
   "metadata": {
    "slideshow": {
     "slide_type": "fragment"
    },
    "tags": []
   },
   "outputs": [
    {
     "data": {
      "text/latex": [
       "$\\displaystyle b$"
      ],
      "text/plain": [
       "b"
      ]
     },
     "metadata": {},
     "output_type": "display_data"
    },
    {
     "data": {
      "text/latex": [
       "$\\displaystyle a$"
      ],
      "text/plain": [
       "a"
      ]
     },
     "metadata": {},
     "output_type": "display_data"
    }
   ],
   "source": [
    "a = sp.Symbol('b')\n",
    "b = sp.Symbol('a')\n",
    "pp( a,b )"
   ]
  },
  {
   "cell_type": "markdown",
   "id": "088c348b-dfb0-4b3c-9901-7010fe07c684",
   "metadata": {
    "slideshow": {
     "slide_type": "slide"
    },
    "tags": []
   },
   "source": [
    "Pero, cómo sabemos, _con un gran poder viene una grán responsabilidad_ por lo que estoy seguro que no harán este tipo de cosas ;)."
   ]
  },
  {
   "cell_type": "code",
   "execution_count": 9,
   "id": "e9e526db-33a5-48f6-86e5-a0f25c016898",
   "metadata": {
    "slideshow": {
     "slide_type": "fragment"
    },
    "tags": []
   },
   "outputs": [
    {
     "data": {
      "text/latex": [
       "$\\displaystyle a$"
      ],
      "text/plain": [
       "a"
      ]
     },
     "metadata": {},
     "output_type": "display_data"
    },
    {
     "data": {
      "text/latex": [
       "$\\displaystyle b$"
      ],
      "text/plain": [
       "b"
      ]
     },
     "metadata": {},
     "output_type": "display_data"
    }
   ],
   "source": [
    "a = sp.Symbol('a')\n",
    "b = sp.Symbol('b')\n",
    "pp( a,b )"
   ]
  },
  {
   "cell_type": "markdown",
   "id": "8503bb43-06ec-4c11-8ebc-4dc6121d7d65",
   "metadata": {
    "slideshow": {
     "slide_type": "slide"
    },
    "tags": []
   },
   "source": [
    "### Álgebra"
   ]
  },
  {
   "cell_type": "markdown",
   "id": "4989b99b-c6d8-4b3e-8a0e-1155397f81be",
   "metadata": {
    "slideshow": {
     "slide_type": "slide"
    },
    "tags": []
   },
   "source": [
    "Una vez que hemos declarado algunos símbolos podemos manipularlos con diferentes __expresiones algebráicas__:\n",
    "- Sumas, restas, multiplicaciones y divisiones con otros símbolos o con números enteros y reales:"
   ]
  },
  {
   "cell_type": "code",
   "execution_count": 10,
   "id": "b0c8474e-d9fd-410e-b39a-298de3da2729",
   "metadata": {
    "slideshow": {
     "slide_type": "fragment"
    },
    "tags": []
   },
   "outputs": [
    {
     "data": {
      "text/latex": [
       "$\\displaystyle 1.26432 x + \\frac{4 x}{2 x - 1}$"
      ],
      "text/plain": [
       "1.26432*x + 4*x/(2*x - 1)"
      ]
     },
     "metadata": {},
     "output_type": "display_data"
    }
   ],
   "source": [
    "pp( 4*x/(2*x-1) + 1.26432*x )"
   ]
  },
  {
   "cell_type": "markdown",
   "id": "41f38e81-197c-4f65-b574-edfcc0486f0d",
   "metadata": {
    "slideshow": {
     "slide_type": "slide"
    },
    "tags": []
   },
   "source": [
    "- Potencias y racies:"
   ]
  },
  {
   "cell_type": "code",
   "execution_count": 11,
   "id": "3c3602ef-6239-4939-9ff2-9b6d1e14bb55",
   "metadata": {
    "slideshow": {
     "slide_type": "fragment"
    },
    "tags": []
   },
   "outputs": [
    {
     "data": {
      "text/latex": [
       "$\\displaystyle - \\sqrt{P_{c}} + \\sqrt[3]{x} + x^{2}$"
      ],
      "text/plain": [
       "-sqrt(P_{c}) + x**(1/3) + x**2"
      ]
     },
     "metadata": {},
     "output_type": "display_data"
    }
   ],
   "source": [
    "pp( x**2 - sp.sqrt(Pc) + sp.root(x,3) )"
   ]
  },
  {
   "cell_type": "markdown",
   "id": "afad6a3b-33fd-4bb1-835c-76e1671060f2",
   "metadata": {
    "slideshow": {
     "slide_type": "slide"
    },
    "tags": []
   },
   "source": [
    "- Funciones trigonométricas:"
   ]
  },
  {
   "cell_type": "code",
   "execution_count": 12,
   "id": "0a3fd28e-5b0b-4f6b-bfa3-dbad9a3d6c4d",
   "metadata": {
    "slideshow": {
     "slide_type": "fragment"
    },
    "tags": []
   },
   "outputs": [
    {
     "data": {
      "text/latex": [
       "$\\displaystyle P_{c} \\cos{\\left(x \\right)} + \\operatorname{atan}{\\left(x - 1 \\right)}$"
      ],
      "text/plain": [
       "P_{c}*cos(x) + atan(x - 1)"
      ]
     },
     "metadata": {},
     "output_type": "display_data"
    }
   ],
   "source": [
    "pp( Pc * sp.cos(x) - sp.atan(1-x) )"
   ]
  },
  {
   "cell_type": "markdown",
   "id": "48fa3bbc-6a73-46d8-ae2d-eb8eef1aa1be",
   "metadata": {
    "slideshow": {
     "slide_type": "slide"
    },
    "tags": []
   },
   "source": [
    "- Fracciones"
   ]
  },
  {
   "cell_type": "code",
   "execution_count": 13,
   "id": "d78b4293-78f6-4efc-9e25-b1ca138e12df",
   "metadata": {
    "slideshow": {
     "slide_type": "fragment"
    },
    "tags": []
   },
   "outputs": [
    {
     "data": {
      "text/latex": [
       "$\\displaystyle \\frac{3}{4}$"
      ],
      "text/plain": [
       "3/4"
      ]
     },
     "metadata": {},
     "output_type": "display_data"
    }
   ],
   "source": [
    "pp( sp.Rational(1,2) + sp.Rational(1,4) )"
   ]
  },
  {
   "cell_type": "markdown",
   "id": "12b079ce-716c-409a-870b-e9f449f06285",
   "metadata": {
    "slideshow": {
     "slide_type": "slide"
    },
    "tags": []
   },
   "source": [
    "### Substituciones de valores o variables:"
   ]
  },
  {
   "cell_type": "markdown",
   "id": "360763cb-fdc9-42cb-a005-03750f0e4616",
   "metadata": {
    "slideshow": {
     "slide_type": "slide"
    },
    "tags": []
   },
   "source": [
    "Para substituir se puede usar el método `subs(variable,valor)`"
   ]
  },
  {
   "cell_type": "code",
   "execution_count": 14,
   "id": "4cf39e84-409b-43a4-8240-48c747b2d33e",
   "metadata": {
    "slideshow": {
     "slide_type": "fragment"
    },
    "tags": []
   },
   "outputs": [
    {
     "data": {
      "text/latex": [
       "$\\displaystyle 30$"
      ],
      "text/plain": [
       "30"
      ]
     },
     "metadata": {},
     "output_type": "display_data"
    }
   ],
   "source": [
    "pp( (x+x**2).subs(x,5) ) # 5+5x5 = 30"
   ]
  },
  {
   "cell_type": "markdown",
   "id": "85a9d333-2c03-42e4-8535-524c00be4a5e",
   "metadata": {
    "slideshow": {
     "slide_type": "fragment"
    },
    "tags": []
   },
   "source": [
    "(Los paréntesis nos permiten que la expresión sea formada antes de levar a cabo substitución)."
   ]
  },
  {
   "cell_type": "markdown",
   "id": "2302e119-30e6-4249-affa-de3ca8251ff7",
   "metadata": {
    "slideshow": {
     "slide_type": "slide"
    },
    "tags": []
   },
   "source": [
    "Las substituciones pueden ocurrir una después de la otra, o usando un diccionario:"
   ]
  },
  {
   "cell_type": "code",
   "execution_count": 15,
   "id": "be9d4d93-1134-4c49-bfb1-87a320a64a99",
   "metadata": {
    "slideshow": {
     "slide_type": "fragment"
    },
    "tags": []
   },
   "outputs": [
    {
     "data": {
      "text/latex": [
       "$\\displaystyle 16$"
      ],
      "text/plain": [
       "16"
      ]
     },
     "metadata": {},
     "output_type": "display_data"
    }
   ],
   "source": [
    "pp( (x**a).subs(x,4).subs(a,2) ) # 4²"
   ]
  },
  {
   "cell_type": "code",
   "execution_count": 16,
   "id": "8d02d78c-c195-473a-99ef-851a8fa015fc",
   "metadata": {
    "slideshow": {
     "slide_type": "fragment"
    },
    "tags": []
   },
   "outputs": [
    {
     "data": {
      "text/latex": [
       "$\\displaystyle 16$"
      ],
      "text/plain": [
       "16"
      ]
     },
     "execution_count": 16,
     "metadata": {},
     "output_type": "execute_result"
    }
   ],
   "source": [
    "(x**a).subs({x:4, a:2}) # 4²"
   ]
  },
  {
   "cell_type": "markdown",
   "id": "7b995b6c-6ea9-454c-b90a-e39d759c26b5",
   "metadata": {
    "slideshow": {
     "slide_type": "slide"
    },
    "tags": []
   },
   "source": [
    "### Simplificaciones, factorizaciones y expansiones"
   ]
  },
  {
   "cell_type": "markdown",
   "id": "773d0bed-264d-4f54-80a9-24dc090a24ab",
   "metadata": {
    "slideshow": {
     "slide_type": "slide"
    },
    "tags": []
   },
   "source": [
    "Declaramos una función polinomial para los siguientes comandos:"
   ]
  },
  {
   "cell_type": "code",
   "execution_count": 17,
   "id": "f88c8f09-fd92-492d-a2e6-cf4812ab1a02",
   "metadata": {
    "slideshow": {
     "slide_type": "fragment"
    },
    "tags": []
   },
   "outputs": [
    {
     "data": {
      "text/latex": [
       "$\\displaystyle 3 x^{3} + 4 x^{2} + x$"
      ],
      "text/plain": [
       "3*x**3 + 4*x**2 + x"
      ]
     },
     "metadata": {},
     "output_type": "display_data"
    }
   ],
   "source": [
    "z = x**3 + 4*x**2 + 2*x**3 + x\n",
    "pp(z)"
   ]
  },
  {
   "cell_type": "markdown",
   "id": "4805ec57-9304-4719-a7c5-38d8b3828909",
   "metadata": {
    "slideshow": {
     "slide_type": "slide"
    },
    "tags": []
   },
   "source": [
    "El método `simplify` intentará obtener una expresión más sencilla:"
   ]
  },
  {
   "cell_type": "code",
   "execution_count": 18,
   "id": "d2b68431-7041-4ad9-88fe-19b3e28c723e",
   "metadata": {
    "slideshow": {
     "slide_type": "fragment"
    },
    "tags": []
   },
   "outputs": [
    {
     "data": {
      "text/latex": [
       "$\\displaystyle x \\left(3 x^{2} + 4 x + 1\\right)$"
      ],
      "text/plain": [
       "x*(3*x**2 + 4*x + 1)"
      ]
     },
     "metadata": {},
     "output_type": "display_data"
    }
   ],
   "source": [
    "pp( sp.simplify(z) )"
   ]
  },
  {
   "cell_type": "markdown",
   "id": "da677d46-3931-436e-8068-986ebd33b2fd",
   "metadata": {
    "slideshow": {
     "slide_type": "slide"
    },
    "tags": []
   },
   "source": [
    "__Nota__: estas funciones se pueden utilizar llamándolas como métodos de las __expresiones__ algebraicas:"
   ]
  },
  {
   "cell_type": "code",
   "execution_count": 19,
   "id": "a2142516-6dff-4fab-8240-9a83f67cecb2",
   "metadata": {
    "slideshow": {
     "slide_type": "fragment"
    },
    "tags": []
   },
   "outputs": [
    {
     "data": {
      "text/latex": [
       "$\\displaystyle x \\left(3 x^{2} + 4 x + 1\\right)$"
      ],
      "text/plain": [
       "x*(3*x**2 + 4*x + 1)"
      ]
     },
     "metadata": {},
     "output_type": "display_data"
    }
   ],
   "source": [
    "pp( z.simplify() )"
   ]
  },
  {
   "cell_type": "code",
   "execution_count": 20,
   "id": "3bb16987-8ae8-405e-8d2b-6f39591447e5",
   "metadata": {
    "slideshow": {
     "slide_type": "slide"
    },
    "tags": []
   },
   "outputs": [
    {
     "data": {
      "text/latex": [
       "$\\displaystyle 1$"
      ],
      "text/plain": [
       "1"
      ]
     },
     "metadata": {},
     "output_type": "display_data"
    }
   ],
   "source": [
    "pp( (sp.sin(x)**2 + sp.cos(x)**2).simplify() ) # (sen(x))² + (cos(x))² = 1"
   ]
  },
  {
   "cell_type": "markdown",
   "id": "0dc779c7-2aeb-4b3b-a709-467d6a03b83d",
   "metadata": {
    "slideshow": {
     "slide_type": "slide"
    },
    "tags": []
   },
   "source": [
    "El método `factor` intentará factorizar la expresión:"
   ]
  },
  {
   "cell_type": "code",
   "execution_count": 21,
   "id": "57cd681c-b0a4-4fce-ac49-7af3fb440ebc",
   "metadata": {
    "slideshow": {
     "slide_type": "fragment"
    },
    "tags": []
   },
   "outputs": [
    {
     "data": {
      "text/latex": [
       "$\\displaystyle x \\left(x + 1\\right) \\left(3 x + 1\\right)$"
      ],
      "text/plain": [
       "x*(x + 1)*(3*x + 1)"
      ]
     },
     "metadata": {},
     "output_type": "display_data"
    }
   ],
   "source": [
    "pp( z.factor() )"
   ]
  },
  {
   "cell_type": "markdown",
   "id": "17071ebe-3126-4fc0-b079-016989d7f5dc",
   "metadata": {
    "slideshow": {
     "slide_type": "slide"
    },
    "tags": []
   },
   "source": [
    "Por otro lado, el método `expand` aplicará la propiedad distributiva, expandiendo la expresión:"
   ]
  },
  {
   "cell_type": "code",
   "execution_count": 22,
   "id": "baa558ac-3a64-4d09-9298-bfeb1c5e5934",
   "metadata": {
    "slideshow": {
     "slide_type": "fragment"
    },
    "tags": []
   },
   "outputs": [
    {
     "data": {
      "text/latex": [
       "$\\displaystyle 3 x^{3} + 4 x^{2} + x$"
      ],
      "text/plain": [
       "3*x**3 + 4*x**2 + x"
      ]
     },
     "metadata": {},
     "output_type": "display_data"
    }
   ],
   "source": [
    "pp( z.expand() )"
   ]
  },
  {
   "cell_type": "markdown",
   "id": "4713fc29-18f0-48bb-a0ab-da8a58d285d7",
   "metadata": {
    "slideshow": {
     "slide_type": "slide"
    },
    "tags": []
   },
   "source": [
    "### Derivación e integración"
   ]
  },
  {
   "cell_type": "markdown",
   "id": "31d6d343-2119-4c01-8417-05d9c228884d",
   "metadata": {
    "slideshow": {
     "slide_type": "slide"
    },
    "tags": []
   },
   "source": [
    "Se pueden derivar expresiones usando el método `diff`:"
   ]
  },
  {
   "cell_type": "code",
   "execution_count": 23,
   "id": "1e8f2506-ef65-4f2e-ba44-23c766da108c",
   "metadata": {
    "slideshow": {
     "slide_type": "fragment"
    },
    "tags": []
   },
   "outputs": [
    {
     "data": {
      "text/latex": [
       "$\\displaystyle 9 x^{2} + 8 x + 1$"
      ],
      "text/plain": [
       "9*x**2 + 8*x + 1"
      ]
     },
     "metadata": {},
     "output_type": "display_data"
    }
   ],
   "source": [
    "pp( z.diff(x) )"
   ]
  },
  {
   "cell_type": "code",
   "execution_count": 24,
   "id": "7ec1b0b7-9c12-4b98-bfec-ee25bff8326b",
   "metadata": {
    "slideshow": {
     "slide_type": "slide"
    },
    "tags": []
   },
   "outputs": [
    {
     "data": {
      "text/latex": [
       "$\\displaystyle \\pi \\cos{\\left(\\pi x \\right)}$"
      ],
      "text/plain": [
       "pi*cos(pi*x)"
      ]
     },
     "metadata": {},
     "output_type": "display_data"
    }
   ],
   "source": [
    "pp( sp.sin(sp.pi*x).diff(x) )"
   ]
  },
  {
   "cell_type": "markdown",
   "id": "ef93ce74-d8a8-4e9f-9f7f-db26682f414c",
   "metadata": {
    "slideshow": {
     "slide_type": "slide"
    },
    "tags": []
   },
   "source": [
    "Para integrar se utiliza el método `integrate`. Si se usa simplemente la variable la integral será indefinida:"
   ]
  },
  {
   "cell_type": "code",
   "execution_count": 25,
   "id": "6beb709a-ae8a-4941-aab0-5b9d61f75c72",
   "metadata": {
    "slideshow": {
     "slide_type": "fragment"
    },
    "tags": []
   },
   "outputs": [
    {
     "data": {
      "text/latex": [
       "$\\displaystyle \\frac{3 x^{4}}{4} + \\frac{4 x^{3}}{3} + \\frac{x^{2}}{2}$"
      ],
      "text/plain": [
       "3*x**4/4 + 4*x**3/3 + x**2/2"
      ]
     },
     "metadata": {},
     "output_type": "display_data"
    }
   ],
   "source": [
    "pp( z.integrate(x) )"
   ]
  },
  {
   "cell_type": "code",
   "execution_count": 26,
   "id": "1031df06-24c3-4fb0-abc8-f8dbbc52e78f",
   "metadata": {
    "slideshow": {
     "slide_type": "slide"
    },
    "tags": []
   },
   "outputs": [
    {
     "data": {
      "text/latex": [
       "$\\displaystyle - \\frac{\\cos{\\left(\\pi x \\right)}}{\\pi}$"
      ],
      "text/plain": [
       "-cos(pi*x)/pi"
      ]
     },
     "metadata": {},
     "output_type": "display_data"
    }
   ],
   "source": [
    "pp( sp.sin(sp.pi*x).integrate(x) )"
   ]
  },
  {
   "cell_type": "markdown",
   "id": "2a0d0e1c-28e4-4dab-9469-29d80aeea0d3",
   "metadata": {
    "slideshow": {
     "slide_type": "slide"
    },
    "tags": []
   },
   "source": [
    "Para integrales definidas se incluye la variable y los límites en una tupla `(variable, inferior, superior)`:"
   ]
  },
  {
   "cell_type": "code",
   "execution_count": 27,
   "id": "cd79a145-a702-4b09-a2df-fc03dc0546b6",
   "metadata": {
    "slideshow": {
     "slide_type": "fragment"
    },
    "tags": []
   },
   "outputs": [
    {
     "data": {
      "text/latex": [
       "$\\displaystyle \\frac{31}{12}$"
      ],
      "text/plain": [
       "31/12"
      ]
     },
     "metadata": {},
     "output_type": "display_data"
    }
   ],
   "source": [
    "pp( z.integrate((x,0,1)) )"
   ]
  },
  {
   "cell_type": "code",
   "execution_count": 28,
   "id": "b5faa014-6c83-430c-9be6-54ff4fcdb298",
   "metadata": {
    "slideshow": {
     "slide_type": "slide"
    },
    "tags": []
   },
   "outputs": [
    {
     "data": {
      "text/latex": [
       "$\\displaystyle \\frac{2}{\\pi}$"
      ],
      "text/plain": [
       "2/pi"
      ]
     },
     "metadata": {},
     "output_type": "display_data"
    }
   ],
   "source": [
    "pp( sp.sin(sp.pi*x).integrate((x,0,1)) )"
   ]
  },
  {
   "cell_type": "markdown",
   "id": "25869e7f-b77f-4a80-85a9-89ba1c39fcb1",
   "metadata": {
    "slideshow": {
     "slide_type": "slide"
    },
    "tags": []
   },
   "source": [
    "### Vectores y matrices"
   ]
  },
  {
   "cell_type": "markdown",
   "id": "66c8aa60-c64e-43a2-9969-b0ebbce2ed56",
   "metadata": {
    "slideshow": {
     "slide_type": "slide"
    },
    "tags": []
   },
   "source": [
    "Para declarar un vector o una matriz se utiliza la función `matrix` y una lista de listas:"
   ]
  },
  {
   "cell_type": "code",
   "execution_count": 29,
   "id": "7bb377bd-f9ef-4783-80a6-122308085024",
   "metadata": {
    "slideshow": {
     "slide_type": "fragment"
    },
    "tags": []
   },
   "outputs": [
    {
     "data": {
      "text/latex": [
       "$\\displaystyle \\left[\\begin{matrix}1 & 2\\\\3 & 4\\\\5 & 6\\end{matrix}\\right]$"
      ],
      "text/plain": [
       "Matrix([\n",
       "[1, 2],\n",
       "[3, 4],\n",
       "[5, 6]])"
      ]
     },
     "metadata": {},
     "output_type": "display_data"
    }
   ],
   "source": [
    "m1 = sp.Matrix([[1,2],\n",
    "                [3,4],\n",
    "                [5,6]])\n",
    "pp( m1 )"
   ]
  },
  {
   "cell_type": "code",
   "execution_count": 30,
   "id": "8c5e2038-6069-4919-b97f-076902f4dfb7",
   "metadata": {
    "slideshow": {
     "slide_type": "slide"
    },
    "tags": []
   },
   "outputs": [
    {
     "data": {
      "text/latex": [
       "$\\displaystyle \\left[\\begin{matrix}6\\\\5\\end{matrix}\\right]$"
      ],
      "text/plain": [
       "Matrix([\n",
       "[6],\n",
       "[5]])"
      ]
     },
     "metadata": {},
     "output_type": "display_data"
    }
   ],
   "source": [
    "v1 = sp.Matrix([6,5])\n",
    "pp( v1 )"
   ]
  },
  {
   "cell_type": "code",
   "execution_count": 31,
   "id": "75d7ff65-de6d-4f8e-8361-46e3bee1e187",
   "metadata": {
    "slideshow": {
     "slide_type": "slide"
    },
    "tags": []
   },
   "outputs": [
    {
     "data": {
      "text/latex": [
       "$\\displaystyle \\left[\\begin{matrix}3\\\\2\\\\1\\end{matrix}\\right]$"
      ],
      "text/plain": [
       "Matrix([\n",
       "[3],\n",
       "[2],\n",
       "[1]])"
      ]
     },
     "metadata": {},
     "output_type": "display_data"
    }
   ],
   "source": [
    "v2 = sp.Matrix([3,2,1])\n",
    "pp( v2 )"
   ]
  },
  {
   "cell_type": "markdown",
   "id": "662cda0e-ac23-4ae7-b438-69d44dd3c113",
   "metadata": {
    "slideshow": {
     "slide_type": "slide"
    },
    "tags": []
   },
   "source": [
    "Las multiplicaciones de matrices se obtienen utilizando simplemente el operador `*` (siempre y cuando se cumplan las reglas de dichas operaciones):"
   ]
  },
  {
   "cell_type": "code",
   "execution_count": 32,
   "id": "45749ae4-92db-4fe5-ba2c-83ff4d81335d",
   "metadata": {
    "slideshow": {
     "slide_type": "fragment"
    },
    "tags": []
   },
   "outputs": [
    {
     "data": {
      "text/latex": [
       "$\\displaystyle \\left[\\begin{matrix}16\\\\38\\\\60\\end{matrix}\\right]$"
      ],
      "text/plain": [
       "Matrix([\n",
       "[16],\n",
       "[38],\n",
       "[60]])"
      ]
     },
     "metadata": {},
     "output_type": "display_data"
    }
   ],
   "source": [
    "pp( m1 * v1 )"
   ]
  },
  {
   "cell_type": "markdown",
   "id": "726e3497-0db0-43f1-a9de-54b95b72288f",
   "metadata": {
    "slideshow": {
     "slide_type": "slide"
    },
    "tags": []
   },
   "source": [
    "Para transponer cualquier vector o matriz se utiliza `.T`:"
   ]
  },
  {
   "cell_type": "code",
   "execution_count": 33,
   "id": "cc84c6d7-1ad7-4bb2-95cd-259f98052992",
   "metadata": {
    "slideshow": {
     "slide_type": "fragment"
    },
    "tags": []
   },
   "outputs": [
    {
     "data": {
      "text/latex": [
       "$\\displaystyle \\left[\\begin{matrix}3 & 2 & 1\\end{matrix}\\right]$"
      ],
      "text/plain": [
       "Matrix([[3, 2, 1]])"
      ]
     },
     "metadata": {},
     "output_type": "display_data"
    }
   ],
   "source": [
    "pp( v2.T )"
   ]
  },
  {
   "cell_type": "code",
   "execution_count": 34,
   "id": "6de0e847-9ad7-4018-b649-cbfedee3e386",
   "metadata": {
    "slideshow": {
     "slide_type": "fragment"
    },
    "tags": []
   },
   "outputs": [
    {
     "data": {
      "text/latex": [
       "$\\displaystyle \\left[\\begin{matrix}14 & 20\\end{matrix}\\right]$"
      ],
      "text/plain": [
       "Matrix([[14, 20]])"
      ]
     },
     "metadata": {},
     "output_type": "display_data"
    }
   ],
   "source": [
    "pp( v2.T * m1 )"
   ]
  },
  {
   "cell_type": "markdown",
   "id": "1b1effca-005c-4d7c-a5f7-557a3412f81e",
   "metadata": {
    "slideshow": {
     "slide_type": "slide"
    },
    "tags": []
   },
   "source": [
    "Para accesar los elementos, renglones o columnas de una matriz se utilizan los corchetes después de la expresión `[renglon, columna]`, con los dos puntos `:` para una línea o renglón completo (recordar que en __Python__ los subíndices siempre inician de cero):"
   ]
  },
  {
   "cell_type": "code",
   "execution_count": 35,
   "id": "151ca00e-3fef-4644-9307-9a27242232db",
   "metadata": {
    "slideshow": {
     "slide_type": "fragment"
    },
    "tags": []
   },
   "outputs": [
    {
     "data": {
      "text/latex": [
       "$\\displaystyle 2$"
      ],
      "text/plain": [
       "2"
      ]
     },
     "metadata": {},
     "output_type": "display_data"
    }
   ],
   "source": [
    "pp( m1[0,1] ) # Elemento 0 de la columna 1"
   ]
  },
  {
   "cell_type": "code",
   "execution_count": 36,
   "id": "035df63d-ef39-433b-87c7-78d2ee3d119e",
   "metadata": {
    "slideshow": {
     "slide_type": "slide"
    },
    "tags": []
   },
   "outputs": [
    {
     "data": {
      "text/latex": [
       "$\\displaystyle \\left[\\begin{matrix}1\\\\3\\\\5\\end{matrix}\\right]$"
      ],
      "text/plain": [
       "Matrix([\n",
       "[1],\n",
       "[3],\n",
       "[5]])"
      ]
     },
     "metadata": {},
     "output_type": "display_data"
    }
   ],
   "source": [
    "pp( m1[:,0] ) # Toda la columna 0"
   ]
  },
  {
   "cell_type": "code",
   "execution_count": 37,
   "id": "086273b2-939b-4482-9a29-ab7b250dac48",
   "metadata": {
    "slideshow": {
     "slide_type": "slide"
    },
    "tags": []
   },
   "outputs": [
    {
     "data": {
      "text/latex": [
       "$\\displaystyle \\left[\\begin{matrix}5 & 6\\end{matrix}\\right]$"
      ],
      "text/plain": [
       "Matrix([[5, 6]])"
      ]
     },
     "metadata": {},
     "output_type": "display_data"
    }
   ],
   "source": [
    "pp( m1[2,:]  )# Todo el renglón 2"
   ]
  },
  {
   "cell_type": "markdown",
   "id": "0b0133d6-f2db-4b42-94eb-b2545cbfd36e",
   "metadata": {
    "slideshow": {
     "slide_type": "slide"
    },
    "tags": []
   },
   "source": [
    "Para un vector podemos usar un sólo índice (`[número]`):"
   ]
  },
  {
   "cell_type": "code",
   "execution_count": 38,
   "id": "8527935a-ddd9-417d-81d5-72842f5d63d4",
   "metadata": {
    "slideshow": {
     "slide_type": "fragment"
    },
    "tags": []
   },
   "outputs": [
    {
     "data": {
      "text/latex": [
       "$\\displaystyle 6$"
      ],
      "text/plain": [
       "6"
      ]
     },
     "metadata": {},
     "output_type": "display_data"
    }
   ],
   "source": [
    "pp( v1[0] )"
   ]
  },
  {
   "cell_type": "markdown",
   "id": "34749511-d401-4150-a94a-f6ca4d54b4ff",
   "metadata": {
    "slideshow": {
     "slide_type": "slide"
    },
    "tags": []
   },
   "source": [
    "Es importante hacer notar que para __Sympy__ no es igual una matriz 1x1 que un número, de tal manera que:"
   ]
  },
  {
   "cell_type": "code",
   "execution_count": 39,
   "id": "28a113cc-858e-46cc-b8a2-a91f5d147c22",
   "metadata": {
    "slideshow": {
     "slide_type": "fragment"
    },
    "tags": []
   },
   "outputs": [
    {
     "data": {
      "text/latex": [
       "$\\displaystyle \\left[\\begin{matrix}14\\end{matrix}\\right]$"
      ],
      "text/plain": [
       "Matrix([[14]])"
      ]
     },
     "metadata": {},
     "output_type": "display_data"
    }
   ],
   "source": [
    "pp( v2.T * v2 )"
   ]
  },
  {
   "cell_type": "markdown",
   "id": "027cb2eb-0960-42d4-a8d2-9282e48b82c1",
   "metadata": {
    "slideshow": {
     "slide_type": "slide"
    },
    "tags": []
   },
   "source": [
    "Si queremos utilizar este valor como un número debemos extraerlo, utilizando su posición (`[0]` o `[0,0]`):"
   ]
  },
  {
   "cell_type": "code",
   "execution_count": 40,
   "id": "2f581da7-d50e-4ba3-bfba-c8967d9405f8",
   "metadata": {
    "slideshow": {
     "slide_type": "fragment"
    },
    "tags": []
   },
   "outputs": [
    {
     "data": {
      "text/latex": [
       "$\\displaystyle 19$"
      ],
      "text/plain": [
       "19"
      ]
     },
     "metadata": {},
     "output_type": "display_data"
    }
   ],
   "source": [
    "pp( (v2.T * v2)[0,0] + 5  )"
   ]
  },
  {
   "cell_type": "code",
   "execution_count": 41,
   "id": "0852ab47-12c9-482f-8c36-74002ba227d3",
   "metadata": {
    "slideshow": {
     "slide_type": "fragment"
    },
    "tags": []
   },
   "outputs": [
    {
     "data": {
      "text/latex": [
       "$\\displaystyle \\left[\\begin{matrix}84\\\\70\\end{matrix}\\right]$"
      ],
      "text/plain": [
       "Matrix([\n",
       "[84],\n",
       "[70]])"
      ]
     },
     "metadata": {},
     "output_type": "display_data"
    }
   ],
   "source": [
    "pp( (v2.T * v2)[0,0] * v1  )"
   ]
  },
  {
   "cell_type": "markdown",
   "id": "29e8ccdd-4eb8-43fc-a091-404b939b5273",
   "metadata": {
    "slideshow": {
     "slide_type": "slide"
    },
    "tags": []
   },
   "source": [
    "En el caso de dos vectores podemos usar la operación punto:"
   ]
  },
  {
   "cell_type": "code",
   "execution_count": 42,
   "id": "3165d3af-616f-4717-b117-56a2ec01de61",
   "metadata": {
    "slideshow": {
     "slide_type": "fragment"
    },
    "tags": []
   },
   "outputs": [
    {
     "data": {
      "text/latex": [
       "$\\displaystyle 14$"
      ],
      "text/plain": [
       "14"
      ]
     },
     "metadata": {},
     "output_type": "display_data"
    }
   ],
   "source": [
    "pp( v2.dot(v2) )"
   ]
  },
  {
   "cell_type": "markdown",
   "id": "5aa39244-a4f2-4fd8-a09c-2640e7d3dc02",
   "metadata": {
    "slideshow": {
     "slide_type": "slide"
    },
    "tags": []
   },
   "source": [
    "Puede ser útil también el cálculo del determinante."
   ]
  },
  {
   "cell_type": "code",
   "execution_count": 43,
   "id": "0617bb1a-42fe-4ff3-91a3-5531e4a933fc",
   "metadata": {
    "slideshow": {
     "slide_type": "fragment"
    },
    "tags": []
   },
   "outputs": [
    {
     "data": {
      "text/latex": [
       "$\\displaystyle -9$"
      ],
      "text/plain": [
       "-9"
      ]
     },
     "metadata": {},
     "output_type": "display_data"
    }
   ],
   "source": [
    "m2 = sp.Matrix([[1,2,3],\n",
    "                [2,3,1],\n",
    "                [4,4,1]])\n",
    "\n",
    "pp( m2.det() )"
   ]
  },
  {
   "cell_type": "markdown",
   "id": "e9006dc5-5b34-406a-93a9-03f692387056",
   "metadata": {
    "slideshow": {
     "slide_type": "slide"
    },
    "tags": []
   },
   "source": [
    "### Combinando lo anterior"
   ]
  },
  {
   "cell_type": "markdown",
   "id": "8742c8e6-fdc1-4ff4-9d24-f5581119f2b3",
   "metadata": {
    "slideshow": {
     "slide_type": "slide"
    },
    "tags": []
   },
   "source": [
    "Todo lo anterior se puede usar en conjunto:"
   ]
  },
  {
   "cell_type": "code",
   "execution_count": 44,
   "id": "2a59f07c-8ed2-4f0b-8ff6-9049a1c5637b",
   "metadata": {
    "slideshow": {
     "slide_type": "fragment"
    },
    "tags": []
   },
   "outputs": [
    {
     "data": {
      "text/latex": [
       "$\\displaystyle \\left[\\begin{matrix}1 & \\frac{2}{3}\\\\\\frac{1}{2} & \\infty\\end{matrix}\\right]$"
      ],
      "text/plain": [
       "Matrix([\n",
       "[  1, 2/3],\n",
       "[1/2,  oo]])"
      ]
     },
     "metadata": {},
     "output_type": "display_data"
    }
   ],
   "source": [
    "pp( (a * sp.Matrix([[x,    x**2 ],\n",
    "                [x**3, x**-1]])).integrate((x,0,1)).subs(a,2) )"
   ]
  },
  {
   "cell_type": "markdown",
   "id": "39c0eddd-f554-4796-ae64-be697531680e",
   "metadata": {
    "slideshow": {
     "slide_type": "slide"
    },
    "tags": []
   },
   "source": [
    "### Gráficas de funciones"
   ]
  },
  {
   "cell_type": "markdown",
   "id": "dfaeeedd-e4ec-4156-a1f8-f28c6b3c1c48",
   "metadata": {
    "slideshow": {
     "slide_type": "slide"
    },
    "tags": []
   },
   "source": [
    "Para graficar podemos usar `sp.plotting.plot`:"
   ]
  },
  {
   "cell_type": "code",
   "execution_count": 45,
   "id": "6d061d62-7404-43fc-9d0e-0a116912b6f0",
   "metadata": {
    "slideshow": {
     "slide_type": "fragment"
    },
    "tags": []
   },
   "outputs": [
    {
     "data": {
      "image/png": "[encoded data removed]",
      "text/plain": [
       "<Figure size 432x288 with 1 Axes>"
      ]
     },
     "metadata": {
      "needs_background": "light"
     },
     "output_type": "display_data"
    }
   ],
   "source": [
    "sp.plotting.plot(z);"
   ]
  },
  {
   "cell_type": "markdown",
   "id": "1d89c0a9-6e82-4c64-9d8f-4acd38d3d61b",
   "metadata": {
    "slideshow": {
     "slide_type": "slide"
    },
    "tags": []
   },
   "source": [
    "Si queremos definir límites de la función se utiliza la misma notación que la integración. Por otro lado, si queremos definir los límites de la gráfica, se usan las palbras `xlim=` y `ylim=`, seguidos de los valores `[inferior, superior]`:"
   ]
  },
  {
   "cell_type": "code",
   "execution_count": 46,
   "id": "48a714a0-7772-4d63-b1da-1b9326853b78",
   "metadata": {
    "slideshow": {
     "slide_type": "fragment"
    },
    "tags": []
   },
   "outputs": [
    {
     "data": {
      "image/png": "[encoded data removed]",
      "text/plain": [
       "<Figure size 432x288 with 1 Axes>"
      ]
     },
     "metadata": {
      "needs_background": "light"
     },
     "output_type": "display_data"
    }
   ],
   "source": [
    "sp.plotting.plot(sp.sin(sp.pi*x), (x,-1,1), xlim=[-1.5, 1.5]);"
   ]
  },
  {
   "cell_type": "markdown",
   "id": "e8046813-fd43-4777-8213-5141e78471ce",
   "metadata": {
    "slideshow": {
     "slide_type": "fragment"
    },
    "tags": []
   },
   "source": [
    "Esta función tiene otras opciones, pero no se explorarán aqui."
   ]
  },
  {
   "cell_type": "markdown",
   "id": "6ce15a19-ba5e-407a-86de-b59510e68ec2",
   "metadata": {
    "slideshow": {
     "slide_type": "slide"
    },
    "tags": []
   },
   "source": [
    "### Solución de ecuaciones"
   ]
  },
  {
   "cell_type": "markdown",
   "id": "5049282d-5dcb-4488-b130-91f925bd3686",
   "metadata": {
    "slideshow": {
     "slide_type": "slide"
    },
    "tags": []
   },
   "source": [
    "Suponiendo que tengamos una ecuación del tipo:\n",
    "\n",
    "$$x^2 + 2*x = 5$$\n",
    "\n",
    "Sympy buscará algebraicamente las soluciones usando el comando `sp.solve()`. Es necesario _igualar la expresión a cero_:\n",
    "\n",
    "$$x^2 + 2*x - 5 = 0$$"
   ]
  },
  {
   "cell_type": "code",
   "execution_count": 47,
   "id": "e0962dd7-a3ae-4a70-a53a-3412fc4d9f55",
   "metadata": {
    "slideshow": {
     "slide_type": "fragment"
    },
    "tags": []
   },
   "outputs": [
    {
     "data": {
      "text/plain": [
       "[-3, 1]"
      ]
     },
     "metadata": {},
     "output_type": "display_data"
    }
   ],
   "source": [
    "expr = x**2 + 2*x - 3\n",
    "\n",
    "pp( sp.solve(expr) )"
   ]
  },
  {
   "cell_type": "markdown",
   "id": "b796a0ad-a4bc-4a9c-8dac-424e15f36bc1",
   "metadata": {
    "slideshow": {
     "slide_type": "slide"
    },
    "tags": []
   },
   "source": [
    "Sistemas de ecuaciones pueden ser contenidos en una matriz (ya sea directamente o por una multiplicación) y resueltos con el mismo comando. Por ejemplo, un sistema $Mx=b$:"
   ]
  },
  {
   "cell_type": "code",
   "execution_count": 48,
   "id": "c8f7d8bb-f410-47cf-b796-992d53ac4d30",
   "metadata": {
    "slideshow": {
     "slide_type": "fragment"
    },
    "tags": []
   },
   "outputs": [
    {
     "data": {
      "text/latex": [
       "$\\displaystyle \\left[\\begin{matrix}x_{1} + 2 x_{2} - 8\\\\3 x_{1} - 2 x_{2} - 16\\end{matrix}\\right]$"
      ],
      "text/plain": [
       "Matrix([\n",
       "[   x_1 + 2*x_2 - 8],\n",
       "[3*x_1 - 2*x_2 - 16]])"
      ]
     },
     "metadata": {},
     "output_type": "display_data"
    }
   ],
   "source": [
    "x1, x2 = sp.symbols('x_1, x_2')\n",
    "\n",
    "x = sp.Matrix([x1, x2])\n",
    "M = sp.Matrix([[1,2],[3,-2]])\n",
    "b = sp.Matrix([8,16])\n",
    "\n",
    "expr = M * x - b\n",
    "pp( expr )"
   ]
  },
  {
   "cell_type": "code",
   "execution_count": 49,
   "id": "03adf832-70fd-4b40-b27d-6f4a62780361",
   "metadata": {
    "slideshow": {
     "slide_type": "fragment"
    },
    "tags": []
   },
   "outputs": [
    {
     "data": {
      "text/plain": [
       "{x_1: 6, x_2: 1}"
      ]
     },
     "execution_count": 49,
     "metadata": {},
     "output_type": "execute_result"
    }
   ],
   "source": [
    "sp.solve(expr)"
   ]
  },
  {
   "cell_type": "markdown",
   "id": "8ce25430-b0f4-430d-ae9b-354578177ed0",
   "metadata": {
    "slideshow": {
     "slide_type": "fragment"
    },
    "tags": []
   },
   "source": [
    "## Pongamos todo junto: usando diccionarios"
   ]
  },
  {
   "cell_type": "markdown",
   "id": "bae3767a-157b-4df9-b63b-54901867b304",
   "metadata": {
    "slideshow": {
     "slide_type": "slide"
    }
   },
   "source": [
    "Los _diccionarios_ en __Python__ son estructuras de datos propias del lenguaje en cierta forma similares a las _tuplas_ y a los _listas_ con una diferencia: en las _tuplas_ y _listas_ los elementos se encuentran asociados cada uno a un entero que forma una secuencia, mientras que en los diccionarios es posible asociar a los elementos a cualquier objeto."
   ]
  },
  {
   "cell_type": "markdown",
   "id": "ecdeb5eb-a111-42dc-90f9-3b029583f0d7",
   "metadata": {
    "slideshow": {
     "slide_type": "slide"
    }
   },
   "source": [
    "Así, en una _lista_ (por ejemplo) tenemos:\n",
    "\n",
    "    dirección -> objeto\n",
    "       0      ->   'a'\n",
    "       1      ->   'b'\n",
    "       2      ->   'c'\n",
    "           ........"
   ]
  },
  {
   "cell_type": "markdown",
   "id": "ed1da354-be61-4ab6-821a-745169259fb2",
   "metadata": {
    "slideshow": {
     "slide_type": "slide"
    }
   },
   "source": [
    "En un _diccionario_ podemos tener, por ejemplo:\n",
    "\n",
    "       key          ->   value\n",
    "       'pais'       ->   'Argentina'\n",
    "       'provincia'  ->   'Salta'\n",
    "       'longitud'   ->   -65.410556\n",
    "       'latitud'    ->   -24.788333"
   ]
  },
  {
   "cell_type": "markdown",
   "id": "63724182-f5b4-434c-81ce-e90c159392d1",
   "metadata": {
    "slideshow": {
     "slide_type": "slide"
    }
   },
   "source": [
    "Así el diccionario nos permite guardar informaciones __complejas__ o __relacionadas__."
   ]
  },
  {
   "cell_type": "markdown",
   "id": "8b098c44-ad0e-4ff5-b03b-2ec269af912b",
   "metadata": {
    "slideshow": {
     "slide_type": "slide"
    }
   },
   "source": [
    "El ejemplo anterior se declara como diccionario usando las `{}` y separando cada _value_ de su _key_ utilizando `:`. Es decir:"
   ]
  },
  {
   "cell_type": "code",
   "execution_count": 50,
   "id": "2d68ad55-874c-4c48-b2f6-2ca84800d2be",
   "metadata": {
    "slideshow": {
     "slide_type": "fragment"
    }
   },
   "outputs": [],
   "source": [
    "Salta = {'pais':'Argentina',\n",
    "         'provincia':'Salta',\n",
    "         'longitud':-65.410556,\n",
    "         'latitud':-24.788333}"
   ]
  },
  {
   "cell_type": "markdown",
   "id": "c0a6f1ba-b495-4ac7-809a-29977a8318ad",
   "metadata": {
    "slideshow": {
     "slide_type": "fragment"
    }
   },
   "source": [
    "Siempre y cuando estemos dentro de las llaves (`{}`) y fuera de los apostrofes (`'`) podemos incluir nuevas líneas para mejorar la legibilidad."
   ]
  },
  {
   "cell_type": "markdown",
   "id": "c9b83b99-a350-42f6-8919-7e50785db280",
   "metadata": {
    "slideshow": {
     "slide_type": "slide"
    },
    "tags": []
   },
   "source": [
    "__Resolvamos un problema__:\n",
    "\n",
    "Para explorar como se puede aplicar un diccionario a la solución de un problema, tomemos por ejemplo el siguiente problema:\n",
    "\n",
    "Un automóvil parte de Salta hacia Asunción a las 12:00 horas. A las 14:00, otro sale de Asunción hacia Salta. Los automóviles llevan velocidades de 100 km/h y 50 km/h respectivamente. Sabiendo que la distancia que separa Salta de Asunción es de 1100 km, calcular:\n",
    "\n",
    "1. ¿A qué distancia de Salta se cruzan?\n",
    "2. ¿A qué distancia de Asunción se cruzan?\n",
    "3. ¿A qué hora se cruzan?"
   ]
  },
  {
   "cell_type": "markdown",
   "id": "4532771f-f31d-45ea-9a39-91737da79e14",
   "metadata": {
    "slideshow": {
     "slide_type": "slide"
    },
    "tags": []
   },
   "source": [
    "Declaramos los _símbolos_ que utilizaremos:"
   ]
  },
  {
   "cell_type": "code",
   "execution_count": 66,
   "id": "b31ba11d-4b28-4cec-a7bc-b456ef628652",
   "metadata": {
    "slideshow": {
     "slide_type": "fragment"
    },
    "tags": []
   },
   "outputs": [],
   "source": [
    "t = sp.Symbol('t') # tiempo que tardan en encontrarse\n",
    "d = sp.Symbol('d') # distancia de encuentro\n",
    "hsal1 = sp.Symbol('hsal_1') # hora de salida 1\n",
    "hsal2 = sp.Symbol('hsal_2') # hora de salida 2                  \n",
    "v1 = sp.Symbol('v_1') # velocidad 1                  \n",
    "v2 = sp.Symbol('v_2') # velocidad 2\n",
    "henc = sp.Symbol('henc') # hora a la que se encuentran"
   ]
  },
  {
   "cell_type": "markdown",
   "id": "6b153eac-3488-452a-9817-3d0c0616498a",
   "metadata": {
    "slideshow": {
     "slide_type": "slide"
    },
    "tags": []
   },
   "source": [
    "Sabemos que la distancia recorrida es igual a la integral de la velocidad con respecto al tiempo, usando como límites la hora de inicio y la hora de final del movimiento:\n",
    "\n",
    "$$distancia = \\int_{hsal_1}^{henc} v_1 dt$$"
   ]
  },
  {
   "cell_type": "markdown",
   "id": "f7aa22c0-33da-4590-b1b2-83238574e323",
   "metadata": {
    "slideshow": {
     "slide_type": "slide"
    },
    "tags": []
   },
   "source": [
    "Para obtener el tiempo que tardan en encontrarse podemos usar la ecuación:\n",
    "\n",
    "$$\\int_{hsal_1}^{henc} v_1 dt + \\int_{hsal_2}^{henc} v_2 dt  = d$$"
   ]
  },
  {
   "cell_type": "code",
   "execution_count": 52,
   "id": "3259a0f9-8ea4-4fc1-b904-de45eac2d613",
   "metadata": {
    "slideshow": {
     "slide_type": "fragment"
    },
    "tags": []
   },
   "outputs": [
    {
     "data": {
      "text/latex": [
       "$\\displaystyle - d + henc v_{1} + henc v_{2} - hsal_{1} v_{1} - hsal_{2} v_{2}$"
      ],
      "text/plain": [
       "-d + henc*v_1 + henc*v_2 - hsal_1*v_1 - hsal_2*v_2"
      ]
     },
     "metadata": {},
     "output_type": "display_data"
    }
   ],
   "source": [
    "eq = sp.integrate(v1, (t, hsal1, henc)) + sp.integrate(v2, (t, hsal2, henc)) - d\n",
    "pp(eq)"
   ]
  },
  {
   "cell_type": "markdown",
   "id": "425e8956-a7ff-4567-bed5-c67fb8e6b10a",
   "metadata": {
    "slideshow": {
     "slide_type": "slide"
    },
    "tags": []
   },
   "source": [
    "Los datos del problema se pueden poner en un diccionario:"
   ]
  },
  {
   "cell_type": "code",
   "execution_count": 67,
   "id": "be10bcd2-acea-4a33-9571-3cfbd7372184",
   "metadata": {
    "slideshow": {
     "slide_type": "fragment"
    },
    "tags": []
   },
   "outputs": [
    {
     "data": {
      "text/plain": [
       "[20.0000000000000]"
      ]
     },
     "metadata": {},
     "output_type": "display_data"
    }
   ],
   "source": [
    "P1 =  {d:1100, hsal1:12.0, hsal2:14.0, v1:100, v2:50}\n",
    "pp( sp.solve(eq.subs(P1)) )"
   ]
  },
  {
   "cell_type": "markdown",
   "id": "5c63e927-fc93-407a-ac34-551144b3f431",
   "metadata": {
    "slideshow": {
     "slide_type": "fragment"
    },
    "tags": []
   },
   "source": [
    "__Nota__: El comando `solve` automáticamente detecta que nuestra única incognita es la `henc` y nos regresa una lista, ya que podría haber varias soluciones."
   ]
  },
  {
   "cell_type": "markdown",
   "id": "cef3b704-bf36-4443-9e61-46186e56c18b",
   "metadata": {
    "slideshow": {
     "slide_type": "slide"
    },
    "tags": []
   },
   "source": [
    "Las preguntas 1 y 2 se pueden contestar usando este valor en ambas integrales."
   ]
  },
  {
   "cell_type": "code",
   "execution_count": 55,
   "id": "2b616111-ffe3-4af6-8722-41ad8ae8eaa3",
   "metadata": {
    "slideshow": {
     "slide_type": "fragment"
    },
    "tags": []
   },
   "outputs": [
    {
     "data": {
      "text/latex": [
       "$\\displaystyle 800.0$"
      ],
      "text/plain": [
       "800.000000000000"
      ]
     },
     "execution_count": 55,
     "metadata": {},
     "output_type": "execute_result"
    }
   ],
   "source": [
    "sp.integrate(v1, (t, hsal1, henc)).subs(P1).subs(henc,20)"
   ]
  },
  {
   "cell_type": "code",
   "execution_count": 56,
   "id": "71e96fb5-c480-4d3e-9b2b-4a7d90b00177",
   "metadata": {
    "slideshow": {
     "slide_type": "fragment"
    },
    "tags": []
   },
   "outputs": [
    {
     "data": {
      "text/latex": [
       "$\\displaystyle 300.0$"
      ],
      "text/plain": [
       "300.000000000000"
      ]
     },
     "execution_count": 56,
     "metadata": {},
     "output_type": "execute_result"
    }
   ],
   "source": [
    "sp.integrate(v2, (t, hsal2, henc)).subs(P1).subs(henc,20)"
   ]
  },
  {
   "cell_type": "markdown",
   "id": "68859a1f-998f-4e41-9260-ad40659cd72e",
   "metadata": {
    "slideshow": {
     "slide_type": "slide"
    },
    "tags": []
   },
   "source": [
    "Comandante Fontana\n",
    "\n",
    "![Comandante Fontana](Imagenes/ComandanteFontana.png)\n",
    "\n",
    "__Fuente__: Google Maps "
   ]
  },
  {
   "cell_type": "markdown",
   "id": "5f198833-3e47-434b-a7c2-3df50bb1fc98",
   "metadata": {
    "slideshow": {
     "slide_type": "slide"
    },
    "tags": []
   },
   "source": [
    "## ¿Porqué resolver un problema, si podemos resolver 10?"
   ]
  },
  {
   "cell_type": "markdown",
   "id": "816b4b6a-58c9-4c97-9665-5abb970110bd",
   "metadata": {
    "slideshow": {
     "slide_type": "slide"
    },
    "tags": []
   },
   "source": [
    "Una vez que hemos hecho lo anterior es fácil resolver el problema si los datos cambian."
   ]
  },
  {
   "cell_type": "markdown",
   "id": "f7e511d8-8831-409c-ab63-29e2c403f5fe",
   "metadata": {
    "slideshow": {
     "slide_type": "slide"
    },
    "tags": []
   },
   "source": [
    "Si ahora el segundo automóviles no salió de Asunción, sino de Buenos Aires:"
   ]
  },
  {
   "cell_type": "code",
   "execution_count": 57,
   "id": "68bd5379-57ef-4c8a-b424-2fc62a043f0e",
   "metadata": {
    "slideshow": {
     "slide_type": "fragment"
    },
    "tags": []
   },
   "outputs": [
    {
     "name": "stdout",
     "output_type": "stream",
     "text": [
      "Hora de encuentro:\n"
     ]
    },
    {
     "data": {
      "text/plain": [
       "[22.6666666666667]"
      ]
     },
     "metadata": {},
     "output_type": "display_data"
    }
   ],
   "source": [
    "P2 =  {d:1500, hsal1:12.0, hsal2:14.0, v1:100, v2:50}\n",
    "print('Hora de encuentro:')\n",
    "pp( sp.solve(eq.subs(P2)) )"
   ]
  },
  {
   "cell_type": "markdown",
   "id": "aa4b7955-0ce3-41aa-bde2-ffad5fd747d0",
   "metadata": {
    "slideshow": {
     "slide_type": "slide"
    },
    "tags": []
   },
   "source": [
    "Si la velocidad del primer automóvil baja a 90 km/h."
   ]
  },
  {
   "cell_type": "code",
   "execution_count": 58,
   "id": "5d70104b-4c57-402d-b176-0a98e0b84d31",
   "metadata": {
    "slideshow": {
     "slide_type": "fragment"
    },
    "tags": []
   },
   "outputs": [
    {
     "name": "stdout",
     "output_type": "stream",
     "text": [
      "Hora de encuentro:\n"
     ]
    },
    {
     "data": {
      "text/plain": [
       "[20.5714285714286]"
      ]
     },
     "metadata": {},
     "output_type": "display_data"
    }
   ],
   "source": [
    "P3 =  {d:1100, hsal1:12.0, hsal2:14.0, v1:90, v2:50}\n",
    "print('Hora de encuentro:')\n",
    "pp( sp.solve(eq.subs(P3)) )"
   ]
  },
  {
   "cell_type": "markdown",
   "id": "043fdbb7-4e27-4252-8456-bcd89b8eb514",
   "metadata": {
    "slideshow": {
     "slide_type": "slide"
    },
    "tags": []
   },
   "source": [
    "Si el primer automóvil se retrasó y salió hasta las 5pm:"
   ]
  },
  {
   "cell_type": "code",
   "execution_count": 59,
   "id": "a362796c-b622-4384-91e9-11982afbd5ba",
   "metadata": {
    "slideshow": {
     "slide_type": "fragment"
    },
    "tags": []
   },
   "outputs": [
    {
     "name": "stdout",
     "output_type": "stream",
     "text": [
      "Hora de encuentro:\n"
     ]
    },
    {
     "data": {
      "text/plain": [
       "[23.3333333333333]"
      ]
     },
     "metadata": {},
     "output_type": "display_data"
    }
   ],
   "source": [
    "P4 =  {d:1100, hsal1:17.0, hsal2:14.0, v1:100, v2:50}\n",
    "print('Hora de encuentro:')\n",
    "pp( sp.solve(eq.subs(P4)) )"
   ]
  },
  {
   "cell_type": "markdown",
   "id": "6016266e-779e-4cf8-b8f1-43c1aefb3c0c",
   "metadata": {
    "slideshow": {
     "slide_type": "slide"
    },
    "tags": []
   },
   "source": [
    "Si el que sale de Asunción no es un automóvil, sino un avión:"
   ]
  },
  {
   "cell_type": "code",
   "execution_count": 60,
   "id": "7347bbc8-ef4c-43b7-b50f-c9d5392c66ba",
   "metadata": {
    "slideshow": {
     "slide_type": "fragment"
    },
    "tags": []
   },
   "outputs": [
    {
     "name": "stdout",
     "output_type": "stream",
     "text": [
      "Hora de encuentro:\n"
     ]
    },
    {
     "data": {
      "text/plain": [
       "[16.5714285714286]"
      ]
     },
     "metadata": {},
     "output_type": "display_data"
    }
   ],
   "source": [
    "P5 =  {d:1100, hsal1:12.0, hsal2:14.0, v1:100, v2:250}\n",
    "print('Hora de encuentro:')\n",
    "pp( sp.solve(eq.subs(P5)) )"
   ]
  },
  {
   "cell_type": "markdown",
   "id": "e9244597-405a-48fb-b718-6bd25d52ebf1",
   "metadata": {
    "slideshow": {
     "slide_type": "slide"
    },
    "tags": []
   },
   "source": [
    "Pero bueno, al final ahí estamos más o menos con el mismo problema, imaginen que ahora ignoramos la velocidad del primer automóvil, pero sabemos que se encontraron a las 21:30."
   ]
  },
  {
   "cell_type": "code",
   "execution_count": 61,
   "id": "12a950ee-982d-42f1-8cb3-50db542c27d6",
   "metadata": {
    "slideshow": {
     "slide_type": "fragment"
    },
    "tags": []
   },
   "outputs": [
    {
     "name": "stdout",
     "output_type": "stream",
     "text": [
      "Velocidad del automóvil que salió de Salta:\n"
     ]
    },
    {
     "data": {
      "text/plain": [
       "[76.3157894736842]"
      ]
     },
     "metadata": {},
     "output_type": "display_data"
    }
   ],
   "source": [
    "P6 =  {d:1100, hsal1:12.0, hsal2:14.0, v2:50, henc:21.5}\n",
    "print('Velocidad del automóvil que salió de Salta:')\n",
    "pp( sp.solve(eq.subs(P6)) )"
   ]
  },
  {
   "cell_type": "markdown",
   "id": "0ed4dda4-e33a-4983-a0ed-28b6668a928a",
   "metadata": {
    "slideshow": {
     "slide_type": "slide"
    },
    "tags": []
   },
   "source": [
    "A las 22:15."
   ]
  },
  {
   "cell_type": "code",
   "execution_count": 62,
   "id": "5b7321d8-866d-489f-9a99-5b9083eeaa27",
   "metadata": {
    "slideshow": {
     "slide_type": "fragment"
    },
    "tags": []
   },
   "outputs": [
    {
     "name": "stdout",
     "output_type": "stream",
     "text": [
      "Velocidad del automóvil que salió de Salta:\n"
     ]
    },
    {
     "data": {
      "text/plain": [
       "[67.0731707317073]"
      ]
     },
     "metadata": {},
     "output_type": "display_data"
    }
   ],
   "source": [
    "P7 =  {d:1100, hsal1:12.0, hsal2:14.0, v2:50, henc:22.25}\n",
    "print('Velocidad del automóvil que salió de Salta:')\n",
    "pp( sp.solve(eq.subs(P7)) )"
   ]
  },
  {
   "cell_type": "markdown",
   "id": "7606c517-2ca6-4e44-8a2e-162da247c3ab",
   "metadata": {
    "slideshow": {
     "slide_type": "slide"
    },
    "tags": []
   },
   "source": [
    "Si conocemos la velocidad y la hora a la que se encontraron, pero no la hora a la que salió de Salta."
   ]
  },
  {
   "cell_type": "code",
   "execution_count": 63,
   "id": "fe50490a-cf87-40e5-9079-e2eafbeb7df9",
   "metadata": {
    "slideshow": {
     "slide_type": "fragment"
    },
    "tags": []
   },
   "outputs": [
    {
     "name": "stdout",
     "output_type": "stream",
     "text": [
      "Hora de salida del automóvil que salió de Salta:\n"
     ]
    },
    {
     "data": {
      "text/plain": [
       "[11.2500000000000]"
      ]
     },
     "metadata": {},
     "output_type": "display_data"
    }
   ],
   "source": [
    "P8 =  {d:1100, hsal2:14.0, v1:100, v2:50, henc:19.5}\n",
    "print('Hora de salida del automóvil que salió de Salta:')\n",
    "pp( sp.solve(eq.subs(P8)) )"
   ]
  },
  {
   "cell_type": "markdown",
   "id": "a3e172fa-e49f-462f-b067-ffe040f6a0ae",
   "metadata": {
    "slideshow": {
     "slide_type": "slide"
    },
    "tags": []
   },
   "source": [
    "Incluso, podríamos saber que el automóvil de asunción salió 30 minutos después (si se encontraron a las 20hrs)."
   ]
  },
  {
   "cell_type": "code",
   "execution_count": 64,
   "id": "8aabad57-33c1-41be-899f-039fe9851cc3",
   "metadata": {
    "slideshow": {
     "slide_type": "fragment"
    },
    "tags": []
   },
   "outputs": [
    {
     "name": "stdout",
     "output_type": "stream",
     "text": [
      "Hora de salida del automóvil que salió de Salta:\n"
     ]
    },
    {
     "data": {
      "text/plain": [
       "[12.5000000000000]"
      ]
     },
     "metadata": {},
     "output_type": "display_data"
    }
   ],
   "source": [
    "P9 =  {d:1100, hsal2:hsal1+0.5, v1:100, v2:50, henc:20.0}\n",
    "print('Hora de salida del automóvil que salió de Salta:')\n",
    "pp( sp.solve(eq.subs(P9)) )"
   ]
  },
  {
   "cell_type": "markdown",
   "id": "4615ae11-7863-4980-9072-2c7e2f1f3a67",
   "metadata": {
    "slideshow": {
     "slide_type": "slide"
    },
    "tags": []
   },
   "source": [
    "O que el automóvil de Asunción viajaba 20 km/h más rápido que el de Salta (nuevamente encontrandose a las 20hrs)."
   ]
  },
  {
   "cell_type": "code",
   "execution_count": 65,
   "id": "804e54ff-524d-4cc8-86ff-8ae857684e53",
   "metadata": {
    "slideshow": {
     "slide_type": "fragment"
    },
    "tags": []
   },
   "outputs": [
    {
     "name": "stdout",
     "output_type": "stream",
     "text": [
      "Velocidad automóvil que salió de Salta:\n"
     ]
    },
    {
     "data": {
      "text/plain": [
       "[70.0000000000000]"
      ]
     },
     "metadata": {},
     "output_type": "display_data"
    }
   ],
   "source": [
    "P10 =  {d:1100, hsal1:12.0, hsal2:14.0, v2:v1+20, henc:20}\n",
    "print('Velocidad automóvil que salió de Salta:')\n",
    "pp( sp.solve(eq.subs(P10)) )"
   ]
  }
 ],
 "metadata": {
  "kernelspec": {
   "display_name": "Python 3",
   "language": "python",
   "name": "python3"
  },
  "language_info": {
   "codemirror_mode": {
    "name": "ipython",
    "version": 3
   },
   "file_extension": ".py",
   "mimetype": "text/x-python",
   "name": "python",
   "nbconvert_exporter": "python",
   "pygments_lexer": "ipython3",
   "version": "3.7.10"
  }
 },
 "nbformat": 4,
 "nbformat_minor": 5
}
